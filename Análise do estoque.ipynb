{
 "cells": [
  {
   "cell_type": "markdown",
   "metadata": {},
   "source": [
    "# Estudos sobre a base de descartes de materiais e ajustes manuais de inventário de estoques\n",
    "\n",
    "Este trabalho se resume em garantir que existe um monitoramento das transações que são realizadas no estoque\n",
    "via ERP.\n",
    "\n",
    "Focamos nossas análises nas categorias de descarte e ajustes manuais de inventário por estes representarem um\n",
    "risco à organização, tanto financeiro quanto reputacional.\n",
    "\n",
    "As análises expressas nesta documentação têm cunho unicamente exploratório e descritivo, sendo que as análises principais\n",
    "estão feitas paralelamente na ferramenta Power BI"
   ]
  },
  {
   "cell_type": "code",
   "execution_count": 5,
   "metadata": {},
   "outputs": [
    {
     "data": {
      "text/html": [
       "<div>\n",
       "<style scoped>\n",
       "    .dataframe tbody tr th:only-of-type {\n",
       "        vertical-align: middle;\n",
       "    }\n",
       "\n",
       "    .dataframe tbody tr th {\n",
       "        vertical-align: top;\n",
       "    }\n",
       "\n",
       "    .dataframe thead th {\n",
       "        text-align: right;\n",
       "    }\n",
       "</style>\n",
       "<table border=\"1\" class=\"dataframe\">\n",
       "  <thead>\n",
       "    <tr style=\"text-align: right;\">\n",
       "      <th></th>\n",
       "      <th>codMovEstoque</th>\n",
       "      <th>DocMaterial</th>\n",
       "      <th>ItemDOcMaterial</th>\n",
       "      <th>DataDocumento</th>\n",
       "      <th>Valor</th>\n",
       "      <th>UnidadeMedida</th>\n",
       "      <th>Quantidade</th>\n",
       "      <th>CentroCusto</th>\n",
       "      <th>NumMaterial</th>\n",
       "      <th>DescMaterial</th>\n",
       "      <th>MedControlado</th>\n",
       "      <th>DescMotivo</th>\n",
       "      <th>TipoMovimento</th>\n",
       "      <th>DescMovimento</th>\n",
       "    </tr>\n",
       "  </thead>\n",
       "  <tbody>\n",
       "    <tr>\n",
       "      <td>0</td>\n",
       "      <td>212743</td>\n",
       "      <td>4989943011</td>\n",
       "      <td>1</td>\n",
       "      <td>2019-04-10 00:00:00+00:00</td>\n",
       "      <td>-130.24</td>\n",
       "      <td>UN</td>\n",
       "      <td>-1.0</td>\n",
       "      <td>HEMO</td>\n",
       "      <td>208113</td>\n",
       "      <td>REAG SERIGRUP DIANA A1/B213659</td>\n",
       "      <td>Nao</td>\n",
       "      <td>Danificado no armazem</td>\n",
       "      <td>Descarte</td>\n",
       "      <td>SM sucata</td>\n",
       "    </tr>\n",
       "    <tr>\n",
       "      <td>1</td>\n",
       "      <td>236162</td>\n",
       "      <td>4992110440</td>\n",
       "      <td>1</td>\n",
       "      <td>2019-06-19 00:00:00+00:00</td>\n",
       "      <td>-591.00</td>\n",
       "      <td>UN</td>\n",
       "      <td>-2.0</td>\n",
       "      <td>HEMO</td>\n",
       "      <td>215687</td>\n",
       "      <td>ION REPROSEQ 318 VIEW A32250</td>\n",
       "      <td>Nao</td>\n",
       "      <td>Danificado no armazem</td>\n",
       "      <td>Descarte</td>\n",
       "      <td>SM sucata</td>\n",
       "    </tr>\n",
       "    <tr>\n",
       "      <td>2</td>\n",
       "      <td>1063</td>\n",
       "      <td>4992515178</td>\n",
       "      <td>1</td>\n",
       "      <td>2019-07-02 00:00:00+00:00</td>\n",
       "      <td>-9.32</td>\n",
       "      <td>UN</td>\n",
       "      <td>-4.0</td>\n",
       "      <td>FASC</td>\n",
       "      <td>100011</td>\n",
       "      <td>ANAFRANIL 25MG DG [CONTRC1] UNIT</td>\n",
       "      <td>Sim</td>\n",
       "      <td>Danificado no armazem</td>\n",
       "      <td>Descarte</td>\n",
       "      <td>SM sucata</td>\n",
       "    </tr>\n",
       "    <tr>\n",
       "      <td>3</td>\n",
       "      <td>1064</td>\n",
       "      <td>4984451687</td>\n",
       "      <td>1</td>\n",
       "      <td>2018-09-27 00:00:00+00:00</td>\n",
       "      <td>-69.94</td>\n",
       "      <td>UN</td>\n",
       "      <td>-20.0</td>\n",
       "      <td>FASC</td>\n",
       "      <td>100011</td>\n",
       "      <td>ANAFRANIL 25MG DG [CONTRC1] UNIT</td>\n",
       "      <td>Sim</td>\n",
       "      <td>Danificado no armazem</td>\n",
       "      <td>Descarte</td>\n",
       "      <td>SM sucata</td>\n",
       "    </tr>\n",
       "    <tr>\n",
       "      <td>4</td>\n",
       "      <td>1781</td>\n",
       "      <td>4988457374</td>\n",
       "      <td>1</td>\n",
       "      <td>2019-02-18 00:00:00+00:00</td>\n",
       "      <td>-11.45</td>\n",
       "      <td>UN</td>\n",
       "      <td>-3.0</td>\n",
       "      <td>FASC</td>\n",
       "      <td>100014</td>\n",
       "      <td>AROPAX 20MG CP [CONTROL C1] UNITE20</td>\n",
       "      <td>Sim</td>\n",
       "      <td>Danificado no armazem</td>\n",
       "      <td>Descarte</td>\n",
       "      <td>SM sucata</td>\n",
       "    </tr>\n",
       "  </tbody>\n",
       "</table>\n",
       "</div>"
      ],
      "text/plain": [
       "   codMovEstoque  DocMaterial  ItemDOcMaterial             DataDocumento  \\\n",
       "0         212743   4989943011                1 2019-04-10 00:00:00+00:00   \n",
       "1         236162   4992110440                1 2019-06-19 00:00:00+00:00   \n",
       "2           1063   4992515178                1 2019-07-02 00:00:00+00:00   \n",
       "3           1064   4984451687                1 2018-09-27 00:00:00+00:00   \n",
       "4           1781   4988457374                1 2019-02-18 00:00:00+00:00   \n",
       "\n",
       "    Valor UnidadeMedida  Quantidade CentroCusto  NumMaterial  \\\n",
       "0 -130.24            UN        -1.0        HEMO       208113   \n",
       "1 -591.00            UN        -2.0        HEMO       215687   \n",
       "2   -9.32            UN        -4.0        FASC       100011   \n",
       "3  -69.94            UN       -20.0        FASC       100011   \n",
       "4  -11.45            UN        -3.0        FASC       100014   \n",
       "\n",
       "                          DescMaterial MedControlado             DescMotivo  \\\n",
       "0       REAG SERIGRUP DIANA A1/B213659           Nao  Danificado no armazem   \n",
       "1         ION REPROSEQ 318 VIEW A32250           Nao  Danificado no armazem   \n",
       "2     ANAFRANIL 25MG DG [CONTRC1] UNIT           Sim  Danificado no armazem   \n",
       "3     ANAFRANIL 25MG DG [CONTRC1] UNIT           Sim  Danificado no armazem   \n",
       "4  AROPAX 20MG CP [CONTROL C1] UNITE20           Sim  Danificado no armazem   \n",
       "\n",
       "  TipoMovimento DescMovimento  \n",
       "0      Descarte     SM sucata  \n",
       "1      Descarte     SM sucata  \n",
       "2      Descarte     SM sucata  \n",
       "3      Descarte     SM sucata  \n",
       "4      Descarte     SM sucata  "
      ]
     },
     "execution_count": 5,
     "metadata": {},
     "output_type": "execute_result"
    }
   ],
   "source": [
    "# Importação das bibliotecas essenciais para o estudo\n",
    "\n",
    "import pandas as pd\n",
    "import numpy as np\n",
    "from google.cloud import bigquery\n",
    "from google.oauth2 import service_account\n",
    "\n",
    "# Criação das variáveis de autenticação do BigQuery\n",
    "credentials = service_account.Credentials.from_service_account_file('bigdataoswaldosirio-3bad48c014d7.json')\n",
    "project_id = 'bigdataoswaldosirio'\n",
    "client = bigquery.Client(credentials=credentials,project=project_id)\n",
    "\n",
    "# Query de seleção dos dados\n",
    "query_job = client.query(\"\"\"\n",
    "    SELECT \n",
    "      Fato.codMovEstoque,\n",
    "      Fato.DocMaterial,\n",
    "      Fato.ItemDOcMaterial,\n",
    "      Fato.DataDocumento,\n",
    "      Fato.Valor,\n",
    "      Fato.UnidadeMedida,\n",
    "      Fato.Quantidade,\n",
    "      DimCC.CentroCusto,\n",
    "      DimMat.NumMaterial,\n",
    "      DimMat.DescMaterial,\n",
    "      DimMat.MedControlado,\n",
    "      DimMot.DescMotivo,\n",
    "      DimTpM.TipoMovimento,\n",
    "      DimTpM.DescMovimento\n",
    "    FROM `bigdataoswaldosirio.Dimensional.FatoMovEstoque` as Fato\n",
    "    LEFT JOIN `bigdataoswaldosirio.Dimensional.DimCentroCusto` as DimCC\n",
    "     ON DimCC.codCentroCusto = Fato.codCentroCusto\n",
    "    LEFT JOIN `bigdataoswaldosirio.Dimensional.DimMaterial` as DimMat\n",
    "     ON DimMat.codMaterial = Fato.codMaterial\n",
    "    LEFT JOIN `bigdataoswaldosirio.Dimensional.DimMotivoMovimento` as DimMot\n",
    "     ON DimMot.codMotivo = Fato.codMotivo\n",
    "    LEFT JOIN `bigdataoswaldosirio.Dimensional.DimTipoMovimento` as DimTpM\n",
    "     ON DimTpM.codMovimento = Fato.codMovimento\n",
    "\"\"\")\n",
    "\n",
    "# Armazena os resultados da query e os transforma em um DataFrame, exibindo o inínio dos df\n",
    "results = query_job.result()\n",
    "estoques = results.to_dataframe()\n",
    "estoques.head()"
   ]
  },
  {
   "cell_type": "code",
   "execution_count": 6,
   "metadata": {},
   "outputs": [
    {
     "data": {
      "text/plain": [
       "(117208, 14)"
      ]
     },
     "execution_count": 6,
     "metadata": {},
     "output_type": "execute_result"
    }
   ],
   "source": [
    "# Formato da base (linhas, colunas)\n",
    "estoques.shape"
   ]
  },
  {
   "cell_type": "code",
   "execution_count": 7,
   "metadata": {},
   "outputs": [
    {
     "data": {
      "text/html": [
       "<div>\n",
       "<style scoped>\n",
       "    .dataframe tbody tr th:only-of-type {\n",
       "        vertical-align: middle;\n",
       "    }\n",
       "\n",
       "    .dataframe tbody tr th {\n",
       "        vertical-align: top;\n",
       "    }\n",
       "\n",
       "    .dataframe thead th {\n",
       "        text-align: right;\n",
       "    }\n",
       "</style>\n",
       "<table border=\"1\" class=\"dataframe\">\n",
       "  <thead>\n",
       "    <tr style=\"text-align: right;\">\n",
       "      <th></th>\n",
       "      <th>codMovEstoque</th>\n",
       "      <th>DocMaterial</th>\n",
       "      <th>ItemDOcMaterial</th>\n",
       "      <th>Valor</th>\n",
       "      <th>Quantidade</th>\n",
       "      <th>NumMaterial</th>\n",
       "    </tr>\n",
       "  </thead>\n",
       "  <tbody>\n",
       "    <tr>\n",
       "      <td>count</td>\n",
       "      <td>117208.000000</td>\n",
       "      <td>1.172080e+05</td>\n",
       "      <td>117208.000000</td>\n",
       "      <td>1.172080e+05</td>\n",
       "      <td>1.172080e+05</td>\n",
       "      <td>117208.000000</td>\n",
       "    </tr>\n",
       "    <tr>\n",
       "      <td>mean</td>\n",
       "      <td>122094.402396</td>\n",
       "      <td>4.985145e+09</td>\n",
       "      <td>12.877875</td>\n",
       "      <td>2.853161e+01</td>\n",
       "      <td>1.718457e+00</td>\n",
       "      <td>138127.899077</td>\n",
       "    </tr>\n",
       "    <tr>\n",
       "      <td>std</td>\n",
       "      <td>68656.833369</td>\n",
       "      <td>4.208557e+06</td>\n",
       "      <td>29.808715</td>\n",
       "      <td>2.460253e+06</td>\n",
       "      <td>4.285411e+06</td>\n",
       "      <td>54313.358859</td>\n",
       "    </tr>\n",
       "    <tr>\n",
       "      <td>min</td>\n",
       "      <td>1.000000</td>\n",
       "      <td>4.978386e+09</td>\n",
       "      <td>1.000000</td>\n",
       "      <td>-5.954945e+08</td>\n",
       "      <td>-1.037400e+09</td>\n",
       "      <td>100001.000000</td>\n",
       "    </tr>\n",
       "    <tr>\n",
       "      <td>25%</td>\n",
       "      <td>63465.750000</td>\n",
       "      <td>4.981393e+09</td>\n",
       "      <td>1.000000</td>\n",
       "      <td>-1.960000e+01</td>\n",
       "      <td>-3.000000e+00</td>\n",
       "      <td>101485.000000</td>\n",
       "    </tr>\n",
       "    <tr>\n",
       "      <td>50%</td>\n",
       "      <td>123502.500000</td>\n",
       "      <td>4.984807e+09</td>\n",
       "      <td>3.000000</td>\n",
       "      <td>-2.350000e+00</td>\n",
       "      <td>-1.000000e+00</td>\n",
       "      <td>104361.000000</td>\n",
       "    </tr>\n",
       "    <tr>\n",
       "      <td>75%</td>\n",
       "      <td>180777.250000</td>\n",
       "      <td>4.988474e+09</td>\n",
       "      <td>12.000000</td>\n",
       "      <td>1.046000e+01</td>\n",
       "      <td>1.000000e+00</td>\n",
       "      <td>202291.000000</td>\n",
       "    </tr>\n",
       "    <tr>\n",
       "      <td>max</td>\n",
       "      <td>238543.000000</td>\n",
       "      <td>4.993388e+09</td>\n",
       "      <td>430.000000</td>\n",
       "      <td>5.954945e+08</td>\n",
       "      <td>1.037400e+09</td>\n",
       "      <td>502040.000000</td>\n",
       "    </tr>\n",
       "  </tbody>\n",
       "</table>\n",
       "</div>"
      ],
      "text/plain": [
       "       codMovEstoque   DocMaterial  ItemDOcMaterial         Valor  \\\n",
       "count  117208.000000  1.172080e+05    117208.000000  1.172080e+05   \n",
       "mean   122094.402396  4.985145e+09        12.877875  2.853161e+01   \n",
       "std     68656.833369  4.208557e+06        29.808715  2.460253e+06   \n",
       "min         1.000000  4.978386e+09         1.000000 -5.954945e+08   \n",
       "25%     63465.750000  4.981393e+09         1.000000 -1.960000e+01   \n",
       "50%    123502.500000  4.984807e+09         3.000000 -2.350000e+00   \n",
       "75%    180777.250000  4.988474e+09        12.000000  1.046000e+01   \n",
       "max    238543.000000  4.993388e+09       430.000000  5.954945e+08   \n",
       "\n",
       "         Quantidade    NumMaterial  \n",
       "count  1.172080e+05  117208.000000  \n",
       "mean   1.718457e+00  138127.899077  \n",
       "std    4.285411e+06   54313.358859  \n",
       "min   -1.037400e+09  100001.000000  \n",
       "25%   -3.000000e+00  101485.000000  \n",
       "50%   -1.000000e+00  104361.000000  \n",
       "75%    1.000000e+00  202291.000000  \n",
       "max    1.037400e+09  502040.000000  "
      ]
     },
     "execution_count": 7,
     "metadata": {},
     "output_type": "execute_result"
    }
   ],
   "source": [
    "# Análise exploratória dos dados\n",
    "estoques.describe()"
   ]
  },
  {
   "cell_type": "code",
   "execution_count": 8,
   "metadata": {},
   "outputs": [
    {
     "data": {
      "text/plain": [
       "codMovEstoque                    int64\n",
       "DocMaterial                      int64\n",
       "ItemDOcMaterial                  int64\n",
       "DataDocumento      datetime64[ns, UTC]\n",
       "Valor                          float64\n",
       "UnidadeMedida                   object\n",
       "Quantidade                     float64\n",
       "CentroCusto                     object\n",
       "NumMaterial                      int64\n",
       "DescMaterial                    object\n",
       "MedControlado                   object\n",
       "DescMotivo                      object\n",
       "TipoMovimento                   object\n",
       "DescMovimento                   object\n",
       "dtype: object"
      ]
     },
     "execution_count": 8,
     "metadata": {},
     "output_type": "execute_result"
    }
   ],
   "source": [
    "# Lista o formato dos campos \n",
    "estoques.dtypes"
   ]
  },
  {
   "cell_type": "code",
   "execution_count": 9,
   "metadata": {},
   "outputs": [
    {
     "data": {
      "text/plain": [
       "Saída      76582\n",
       "Entrada    40626\n",
       "Name: EntradaSaida, dtype: int64"
      ]
     },
     "execution_count": 9,
     "metadata": {},
     "output_type": "execute_result"
    }
   ],
   "source": [
    "# Realiza o ETL do campo de valor\n",
    "estoques['ValorAbs'] = np.where(estoques['Valor']<0,estoques['Valor']*-1,estoques['Valor'])\n",
    "estoques['EntradaSaida'] = np.where(estoques['Valor']<0,'Saída','Entrada')\n",
    "estoques['EntradaSaida'].value_counts()"
   ]
  },
  {
   "cell_type": "code",
   "execution_count": 10,
   "metadata": {},
   "outputs": [
    {
     "data": {
      "text/html": [
       "<div>\n",
       "<style scoped>\n",
       "    .dataframe tbody tr th:only-of-type {\n",
       "        vertical-align: middle;\n",
       "    }\n",
       "\n",
       "    .dataframe tbody tr th {\n",
       "        vertical-align: top;\n",
       "    }\n",
       "\n",
       "    .dataframe thead th {\n",
       "        text-align: right;\n",
       "    }\n",
       "</style>\n",
       "<table border=\"1\" class=\"dataframe\">\n",
       "  <thead>\n",
       "    <tr style=\"text-align: right;\">\n",
       "      <th></th>\n",
       "      <th>sum</th>\n",
       "      <th>count</th>\n",
       "    </tr>\n",
       "    <tr>\n",
       "      <th>DescMotivo</th>\n",
       "      <th></th>\n",
       "      <th></th>\n",
       "    </tr>\n",
       "  </thead>\n",
       "  <tbody>\n",
       "    <tr>\n",
       "      <td>Compra ou utilizacao de material sem vinculo automatico</td>\n",
       "      <td>R$-2,224,440.19</td>\n",
       "      <td>61477</td>\n",
       "    </tr>\n",
       "    <tr>\n",
       "      <td>Danificado no armazem</td>\n",
       "      <td>R$-3,511,223.82</td>\n",
       "      <td>32335</td>\n",
       "    </tr>\n",
       "    <tr>\n",
       "      <td>Danificado no manuseio</td>\n",
       "      <td>R$-52,158.75</td>\n",
       "      <td>294</td>\n",
       "    </tr>\n",
       "    <tr>\n",
       "      <td>Danificado no transporte</td>\n",
       "      <td>R$-23,003.45</td>\n",
       "      <td>522</td>\n",
       "    </tr>\n",
       "    <tr>\n",
       "      <td>Erro no cadastro da unidade de medida</td>\n",
       "      <td>R$-65,539.66</td>\n",
       "      <td>1511</td>\n",
       "    </tr>\n",
       "    <tr>\n",
       "      <td>Expiracao da validade</td>\n",
       "      <td>R$-41,117.82</td>\n",
       "      <td>13943</td>\n",
       "    </tr>\n",
       "    <tr>\n",
       "      <td>Solicitacao da diretoria</td>\n",
       "      <td>R$9,261,617.21</td>\n",
       "      <td>7126</td>\n",
       "    </tr>\n",
       "  </tbody>\n",
       "</table>\n",
       "</div>"
      ],
      "text/plain": [
       "                                                               sum  count\n",
       "DescMotivo                                                               \n",
       "Compra ou utilizacao de material sem vinculo au... R$-2,224,440.19  61477\n",
       "Danificado no armazem                              R$-3,511,223.82  32335\n",
       "Danificado no manuseio                                R$-52,158.75    294\n",
       "Danificado no transporte                              R$-23,003.45    522\n",
       "Erro no cadastro da unidade de medida                 R$-65,539.66   1511\n",
       "Expiracao da validade                                 R$-41,117.82  13943\n",
       "Solicitacao da diretoria                            R$9,261,617.21   7126"
      ]
     },
     "execution_count": 10,
     "metadata": {},
     "output_type": "execute_result"
    }
   ],
   "source": [
    "# Realiza o ajuste do formato de visualização de variáveis float e realiza uma agregação por descrição do motivo do movimento\n",
    "pd.options.display.float_format = 'R${:,.2f}'.format\n",
    "estoques.groupby('DescMotivo')['Valor'].agg(['sum', 'count'])"
   ]
  },
  {
   "cell_type": "code",
   "execution_count": 18,
   "metadata": {},
   "outputs": [
    {
     "data": {
      "text/html": [
       "<div>\n",
       "<style scoped>\n",
       "    .dataframe tbody tr th:only-of-type {\n",
       "        vertical-align: middle;\n",
       "    }\n",
       "\n",
       "    .dataframe tbody tr th {\n",
       "        vertical-align: top;\n",
       "    }\n",
       "\n",
       "    .dataframe thead th {\n",
       "        text-align: right;\n",
       "    }\n",
       "</style>\n",
       "<table border=\"1\" class=\"dataframe\">\n",
       "  <thead>\n",
       "    <tr style=\"text-align: right;\">\n",
       "      <th></th>\n",
       "      <th></th>\n",
       "      <th>sum</th>\n",
       "      <th>count</th>\n",
       "    </tr>\n",
       "    <tr>\n",
       "      <th>NumMaterial</th>\n",
       "      <th>TipoMovimento</th>\n",
       "      <th></th>\n",
       "      <th></th>\n",
       "    </tr>\n",
       "  </thead>\n",
       "  <tbody>\n",
       "    <tr>\n",
       "      <td rowspan=\"2\" valign=\"top\">100001</td>\n",
       "      <td>Ajuste</td>\n",
       "      <td>R$-21.82</td>\n",
       "      <td>17</td>\n",
       "    </tr>\n",
       "    <tr>\n",
       "      <td>Descarte</td>\n",
       "      <td>R$-39.36</td>\n",
       "      <td>30</td>\n",
       "    </tr>\n",
       "    <tr>\n",
       "      <td rowspan=\"2\" valign=\"top\">100002</td>\n",
       "      <td>Ajuste</td>\n",
       "      <td>R$-43.92</td>\n",
       "      <td>12</td>\n",
       "    </tr>\n",
       "    <tr>\n",
       "      <td>Descarte</td>\n",
       "      <td>R$-34.76</td>\n",
       "      <td>2</td>\n",
       "    </tr>\n",
       "    <tr>\n",
       "      <td>100003</td>\n",
       "      <td>Ajuste</td>\n",
       "      <td>R$-40.44</td>\n",
       "      <td>11</td>\n",
       "    </tr>\n",
       "    <tr>\n",
       "      <td>...</td>\n",
       "      <td>...</td>\n",
       "      <td>...</td>\n",
       "      <td>...</td>\n",
       "    </tr>\n",
       "    <tr>\n",
       "      <td>501780</td>\n",
       "      <td>Ajuste</td>\n",
       "      <td>R$238.00</td>\n",
       "      <td>1</td>\n",
       "    </tr>\n",
       "    <tr>\n",
       "      <td>501872</td>\n",
       "      <td>Ajuste</td>\n",
       "      <td>R$-144.00</td>\n",
       "      <td>1</td>\n",
       "    </tr>\n",
       "    <tr>\n",
       "      <td>502000</td>\n",
       "      <td>Ajuste</td>\n",
       "      <td>R$2,056.20</td>\n",
       "      <td>1</td>\n",
       "    </tr>\n",
       "    <tr>\n",
       "      <td>502011</td>\n",
       "      <td>Ajuste</td>\n",
       "      <td>R$-2,056.20</td>\n",
       "      <td>1</td>\n",
       "    </tr>\n",
       "    <tr>\n",
       "      <td>502040</td>\n",
       "      <td>Ajuste</td>\n",
       "      <td>R$-19.93</td>\n",
       "      <td>1</td>\n",
       "    </tr>\n",
       "  </tbody>\n",
       "</table>\n",
       "<p>8248 rows × 2 columns</p>\n",
       "</div>"
      ],
      "text/plain": [
       "                                  sum  count\n",
       "NumMaterial TipoMovimento                   \n",
       "100001      Ajuste           R$-21.82     17\n",
       "            Descarte         R$-39.36     30\n",
       "100002      Ajuste           R$-43.92     12\n",
       "            Descarte         R$-34.76      2\n",
       "100003      Ajuste           R$-40.44     11\n",
       "...                               ...    ...\n",
       "501780      Ajuste           R$238.00      1\n",
       "501872      Ajuste          R$-144.00      1\n",
       "502000      Ajuste         R$2,056.20      1\n",
       "502011      Ajuste        R$-2,056.20      1\n",
       "502040      Ajuste           R$-19.93      1\n",
       "\n",
       "[8248 rows x 2 columns]"
      ]
     },
     "execution_count": 18,
     "metadata": {},
     "output_type": "execute_result"
    }
   ],
   "source": [
    "# Realiza o agrupamento por materiais\n",
    "\n",
    "estoques.groupby(['NumMaterial','TipoMovimento'])['Valor'].agg(['sum', 'count'])"
   ]
  },
  {
   "cell_type": "code",
   "execution_count": 48,
   "metadata": {},
   "outputs": [
    {
     "data": {
      "text/plain": [
       "<matplotlib.axes._subplots.AxesSubplot at 0x282c8015b48>"
      ]
     },
     "execution_count": 48,
     "metadata": {},
     "output_type": "execute_result"
    },
    {
     "data": {
      "image/png": "[encoded data removed]",
      "text/plain": [
       "<Figure size 432x288 with 1 Axes>"
      ]
     },
     "metadata": {
      "needs_background": "light"
     },
     "output_type": "display_data"
    },
    {
     "data": {
      "image/png": "[encoded data removed]",
      "text/plain": [
       "<Figure size 432x288 with 1 Axes>"
      ]
     },
     "metadata": {
      "needs_background": "light"
     },
     "output_type": "display_data"
    },
    {
     "data": {
      "image/png": "[encoded data removed]",
      "text/plain": [
       "<Figure size 432x288 with 1 Axes>"
      ]
     },
     "metadata": {
      "needs_background": "light"
     },
     "output_type": "display_data"
    }
   ],
   "source": [
    "# Monta gráficos de dispersão para análise do comportamento dos dados\n",
    "\n",
    "import matplotlib as plt\n",
    "%matplotlib inline\n",
    "\n",
    "estoques_descartes = estoques[estoques['TipoMovimento']=='Descarte']\n",
    "estoques_ajuste = estoques[estoques['TipoMovimento']=='Ajuste']\n",
    "\n",
    "estoques.groupby(['NumMaterial','TipoMovimento'])['Valor'].agg(['sum', 'count']).plot.scatter(x='sum', y='count', title='Dispersão dos dados gerais')\n",
    "estoques_descartes.groupby(['NumMaterial','TipoMovimento'])['Valor'].agg(['sum', 'count']).plot.scatter(x='sum', y='count', c='red', title='Dispersão dos dados de descarte')\n",
    "estoques_ajuste.groupby(['NumMaterial','TipoMovimento'])['Valor'].agg(['sum', 'count']).plot.scatter(x='sum', y='count', c='green', title='Dispersão dos dados de ajustes')\n",
    "#t = estoques_agg[estoques_agg['TipoMovimento']=='Descarte']\n",
    "#estoques.groupby(['NumMaterial','TipoMovimento'])['Valor'].agg(['sum', 'count']).plot.scatter(x='sum', y='count')\n",
    "#estoques.groupby(['NumMaterial','TipoMovimento'])['Valor'].agg(['sum', 'count']).plot.scatter(x='sum', y='count')\n",
    "\n",
    "#estoques_materiais = estoques.groupby(['NumMaterial','TipoMovimento'])['Valor'].agg(['sum', 'count'])\n",
    "\n",
    "#def alert(c):\n",
    "#  if c['TipoMovimento'] == 'Descarte':\n",
    "#    return 0\n",
    "#  elif c['TipoMovimento'] == 'Ajuste':\n",
    "#    return 1\n",
    "#  else:\n",
    "#    return 9\n",
    "\n",
    "#estoques_materiais['TipoMovimento'] = estoques_materiais.apply(alert,axis=1)\n",
    "\n",
    "#estoques_materiais['TipoMovimentoNum'] = list(np.where(estoques_materiais['TipoMovimento']=='Descartes',0,1))\n",
    "#estoques_materiais.head()\n",
    "#estoques_materiais.plot.scatter(x='sum', y='count', c=estoques_materiais['TipoMovimento'].map(colors))\n",
    "#estoques_materiais.plot.scatter(x='sum', y='count')"
   ]
  },
  {
   "cell_type": "code",
   "execution_count": 55,
   "metadata": {
    "scrolled": true
   },
   "outputs": [
    {
     "data": {
      "text/plain": [
       "<matplotlib.axes._subplots.AxesSubplot at 0x282cd5fb488>"
      ]
     },
     "execution_count": 55,
     "metadata": {},
     "output_type": "execute_result"
    },
    {
     "data": {
      "image/png": "[encoded data removed]",
      "text/plain": [
       "<Figure size 432x288 with 1 Axes>"
      ]
     },
     "metadata": {
      "needs_background": "light"
     },
     "output_type": "display_data"
    }
   ],
   "source": [
    "# Análise do comportamento dos medicamentos controlados\n",
    "\n",
    "estoques_controlados = estoques[estoques['MedControlado']=='Sim']\n",
    "estoques_controlados.groupby(['NumMaterial','TipoMovimento'])['Valor'].agg(['sum', 'count']).plot.scatter(x='sum', y='count', title='Dispersão dos dados gerais')"
   ]
  },
  {
   "cell_type": "code",
   "execution_count": null,
   "metadata": {},
   "outputs": [],
   "source": []
  }
 ],
 "metadata": {
  "kernelspec": {
   "display_name": "Python 3",
   "language": "python",
   "name": "python3"
  },
  "language_info": {
   "codemirror_mode": {
    "name": "ipython",
    "version": 3
   },
   "file_extension": ".py",
   "mimetype": "text/x-python",
   "name": "python",
   "nbconvert_exporter": "python",
   "pygments_lexer": "ipython3",
   "version": "3.7.4"
  }
 },
 "nbformat": 4,
 "nbformat_minor": 2
}
